{
 "cells": [
  {
   "cell_type": "markdown",
   "metadata": {},
   "source": [
    "操作文件"
   ]
  },
  {
   "cell_type": "code",
   "execution_count": 1,
   "metadata": {},
   "outputs": [],
   "source": [
    "# 导入os模块\n",
    "import os"
   ]
  },
  {
   "cell_type": "markdown",
   "metadata": {},
   "source": [
    "获取文件夹下的所有文件"
   ]
  },
  {
   "cell_type": "code",
   "execution_count": 6,
   "metadata": {},
   "outputs": [],
   "source": [
    "# file_dir定义要获取的文件名称的目录（C盘除外）\n",
    "# file_dir = \"F:\\HEIC\"\n",
    "file_dir = r\"\\\\192.168.31.99\\photo\\宝宝\""
   ]
  },
  {
   "cell_type": "code",
   "execution_count": null,
   "metadata": {},
   "outputs": [],
   "source": [
    "for root, dirs, files in os.walk(file_dir):\n",
    "      print(root) #当前目录路径\n",
    "      print(dirs) #当前路径下所有子目录\n",
    "      print(files) #当前路径下所有非目录子文件"
   ]
  },
  {
   "cell_type": "code",
   "execution_count": 37,
   "metadata": {},
   "outputs": [
    {
     "name": "stdout",
     "output_type": "stream",
     "text": [
      "['新建文件夹', '新建文件夹 (2)']\n",
      "[]\n",
      "['1a']\n",
      "[]\n"
     ]
    }
   ],
   "source": [
    "path = \"F:\\HEIC\"\n",
    "L=[] \n",
    "for root, dirs, files in os.walk(path):\n",
    "    for file in files:\n",
    "        #其中os.path.splitext()函数将路径拆分为文件名+扩展名\n",
    "        if os.path.splitext(file)[1] == '.jpg':\n",
    "            L.append(os.path.join(root, file))"
   ]
  },
  {
   "cell_type": "markdown",
   "metadata": {},
   "source": [
    "获取指定文件下的所有非文件夹的文件"
   ]
  },
  {
   "cell_type": "code",
   "execution_count": 33,
   "metadata": {},
   "outputs": [],
   "source": [
    "list_name = []\n",
    "path = \"F:\\HEIC\"\n",
    "\n",
    "for file in os.listdir(path):\n",
    "    file_path = os.path.join(path, file)\n",
    "    if os.path.isfile(file_path):\n",
    "        list_name.append(file)"
   ]
  },
  {
   "cell_type": "markdown",
   "metadata": {},
   "source": [
    "递归获取指定文件下的所有文件"
   ]
  },
  {
   "cell_type": "code",
   "execution_count": 31,
   "metadata": {},
   "outputs": [],
   "source": [
    "list_name = []\n",
    "path = \"F:\\HEIC\"\n",
    "\n",
    "def listdir(path, list_name): #传入存储的list\n",
    "    for file in os.listdir(path):\n",
    "        file_path = os.path.join(path, file)\n",
    "        if os.path.isdir(file_path):\n",
    "            listdir(file_path, list_name)\n",
    "        else:\n",
    "            list_name.append(file_path)\n",
    "\n",
    "listdir(path, list_name)\n",
    "\n"
   ]
  },
  {
   "cell_type": "markdown",
   "metadata": {},
   "source": [
    "获取文件属性\n",
    "文件目录：os.path.dirname()\n",
    "修改时间：os.path.getmtime()\n",
    "创建时间：os.path.getctime()"
   ]
  },
  {
   "cell_type": "code",
   "execution_count": 4,
   "metadata": {},
   "outputs": [
    {
     "name": "stdout",
     "output_type": "stream",
     "text": [
      "1652801716.2540908\n",
      "time.struct_time(tm_year=2022, tm_mon=5, tm_mday=17, tm_hour=23, tm_min=35, tm_sec=16, tm_wday=1, tm_yday=137, tm_isdst=0)\n",
      "20220517\n",
      "20220517\n"
     ]
    }
   ],
   "source": [
    "import time, os.path\n",
    "file_path = r'F:\\HEIC\\3\\IMG_5308.jpg'\n",
    "# with open(file_path, encoding='utf8') as f:\n",
    "    # a = f.read();\n",
    "    # print(a)\n",
    "\n",
    "# f = open(file_path, encoding='utf8')\n",
    "with open(file_path, encoding='utf8'):\n",
    "\n",
    "    update_mtime = os.path.getmtime(file_path)\n",
    "    print(update_mtime)\n",
    "    x = time.localtime(update_mtime)\n",
    "    print(x) \n",
    "    update_time_format = time.strftime(\"%Y%m%d\", x)\n",
    "    print(update_time_format)\n",
    "\n",
    "    create_mtime = os.path.getctime(file_path)\n",
    "    y = time.localtime(update_mtime)\n",
    "    create_time_format = time.strftime(\"%Y%m%d\", y)\n",
    "    print(create_time_format)\n"
   ]
  },
  {
   "cell_type": "code",
   "execution_count": null,
   "metadata": {},
   "outputs": [],
   "source": [
    "import os, shutil\n",
    "def copydirs(from_file, to_file):\n",
    "    if not os.path.exists(to_file):  # 如不存在目标目录则创建\n",
    "        os.makedirs(to_file)\n",
    "    files = os.listdir(from_file)  # 获取文件夹中文件和目录列表\n",
    "    for f in files:\n",
    "        if os.path.isdir(from_file + '/' + f):  # 判断是否是文件夹\n",
    "            copydirs(from_file + '/' + f, to_file + '/' + f)  # 递归调用本函数\n",
    "        else:\n",
    "            shutil.copy(from_file + '/' + f, to_file + '/' + f)  # 拷贝文件\n",
    "\n",
    "copydirs('F:\\HEIC\\main', 'F:\\HEIC\\main_副本')        "
   ]
  },
  {
   "cell_type": "code",
   "execution_count": 2,
   "metadata": {},
   "outputs": [
    {
     "name": "stdout",
     "output_type": "stream",
     "text": [
      "net use \\\\192.168.31.99 commiao /user:han880924\n",
      "\n",
      "xcopy /y \\\\192.168.31.99\\photo\\hanminmin\\todo\\新建文件夹8 F:\\HEIC\\新建文件夹8\n"
     ]
    }
   ],
   "source": [
    "import os\n",
    "SHARE_USER='commiao'\n",
    "SHARE_PASSWORD='han880924'\n",
    "SHARE_FILE_HOST='\\\\\\\\192.168.31.99'\n",
    "\n",
    "def copy_share_file(share_file_path, target_file_path):\n",
    "    permission_cmd=f'net use {SHARE_FILE_HOST} {SHARE_USER} /user:{SHARE_PASSWORD}'\n",
    "    print(permission_cmd)\n",
    "    permission_result=os.popen(permission_cmd)\n",
    "    print(permission_result.read())\n",
    "    copy_cmd=f'xcopy /y {share_file_path} {target_file_path}'\n",
    "    print(copy_cmd)\n",
    "    copy_result=os.popen(copy_cmd)\n",
    "    print(copy_result.read())\n",
    "\n",
    "share_file_path='\\\\\\\\192.168.31.99\\\\photo\\\\hanminmin\\\\todo\\\\新建文件夹8'\n",
    "target_file_path='F:\\\\HEIC\\\\新建文件夹8'\n",
    "# target_file_path='\\\\\\\\192.168.31.99\\\\photo\\\\hanminmin\\\\mobile'\n",
    "copy_share_file(share_file_path, target_file_path)"
   ]
  },
  {
   "cell_type": "code",
   "execution_count": null,
   "metadata": {},
   "outputs": [],
   "source": [
    "# os.listdir()方法获取文件夹名字，返回数组\n",
    "file_name_list = os.listdir(file_dir)\n",
    "\n",
    "# 转为转为字符串\n",
    "file_name = str(file_name_list)\n",
    "\n",
    "# replace替换\"[\"、\"]\"、\" \"、\"'\"\n",
    "file_name = file_name.replace(\"[\", \"\").replace(\"]\", \"\").replace(\"'\", \"\").replace(\",\", \"\\n\").replace(\" \", \"\")\n",
    "# 创建并打开文件list.txt\n",
    "f = open(path + \"\\\\\" + \"文件list.txt\", \"a\")\n",
    "\n",
    "# 将文件下名称写入到\"文件list.txt\"\n",
    "f.write(file_name)"
   ]
  }
 ],
 "metadata": {
  "interpreter": {
   "hash": "f8b40d688a12481f01eadf7380c47edd8a49484a47dba3db091451640e880c68"
  },
  "kernelspec": {
   "display_name": "Python 3.9.7 ('base')",
   "language": "python",
   "name": "python3"
  },
  "language_info": {
   "codemirror_mode": {
    "name": "ipython",
    "version": 3
   },
   "file_extension": ".py",
   "mimetype": "text/x-python",
   "name": "python",
   "nbconvert_exporter": "python",
   "pygments_lexer": "ipython3",
   "version": "3.9.7"
  },
  "orig_nbformat": 4
 },
 "nbformat": 4,
 "nbformat_minor": 2
}
