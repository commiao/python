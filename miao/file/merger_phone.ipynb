{
 "cells": [
  {
   "cell_type": "markdown",
   "metadata": {},
   "source": [
    "背景：\n",
    "    整理单目录下10W+的照片文件，名称YYYYMMDD_IMG_xxxx.(jpg\\png\\heic)\n",
    "需求：\n",
    "    1.将jpg\\png以外格式的文件，移入other\n",
    "    2.根据文件名YYYYMMDD，移入对应日期的文件夹(例如:202107)\n",
    "    3.去除文件名中的日期(YYYYMMDD_)"
   ]
  },
  {
   "cell_type": "code",
   "execution_count": null,
   "metadata": {},
   "outputs": [],
   "source": [
    "import os, shutil\n",
    "\n",
    "PATH = r\"\\\\192.168.31.99\\photo\\hanminmin\\相机胶卷\"\n",
    "FILE_LIST = ['.JPG','.PNG']\n",
    "\n",
    "def check_create_dir(dir_path):\n",
    "    fd = os.path.exists(dir_path)\n",
    "    if not fd:\n",
    "        os.makedirs(dir_path)\n",
    "\n",
    "def move_file(file_path, dir_path):\n",
    "    check_create_dir(dir_path)\n",
    "    shutil.move(file_path, dir_path)\n",
    "\n",
    "def do_file(file, current_dir_path):\n",
    "    file_path = os.path.join(current_dir_path, file)\n",
    "    file_split = os.path.splitext(file)\n",
    "    file_type = file_split[1]\n",
    "    if(file_type in FILE_LIST):\n",
    "        file_name = str(file_split[0])\n",
    "        date_dir_name = file_name.split('_')[0]\n",
    "        date_dir_path = os.path.join(current_dir_path, date_dir_name[0:6])\n",
    "        print('检查创建文件夹:'+date_dir_path)\n",
    "        check_create_dir(date_dir_path)\n",
    "        move_file(file_path, date_dir_path)\n",
    "    else:\n",
    "        other_dir_path = os.path.join(current_dir_path, 'other')\n",
    "        move_file(file_path, other_dir_path)\n"
   ]
  },
  {
   "cell_type": "markdown",
   "metadata": {},
   "source": [
    "第一步\n",
    "将指定文件夹下的文件整理到对应的日期文件夹下"
   ]
  },
  {
   "cell_type": "code",
   "execution_count": null,
   "metadata": {},
   "outputs": [],
   "source": [
    "def move_my_file(my_file_path):\n",
    "    for root, dirs, files in os.walk(my_file_path):\n",
    "        print('root:')\n",
    "        print(root)  # 当前目录路径\n",
    "        print('dirs:')\n",
    "        print(dirs)  # 当前路径下所有子目录\n",
    "        print('files:')\n",
    "        # print(files)  # 当前路径下所有非目录子文件\n",
    "        print('========================')\n",
    "        for file in files:\n",
    "            do_file(file, root)\n",
    "    print('success')\n",
    "\n",
    "# move_my_file(PATH)"
   ]
  },
  {
   "cell_type": "markdown",
   "metadata": {},
   "source": [
    "第二步\n",
    "遍历所有文件并修改文件名(去除日期YYYYMMDD_开头)"
   ]
  },
  {
   "cell_type": "code",
   "execution_count": null,
   "metadata": {},
   "outputs": [],
   "source": [
    "def rename_my_file(my_file_path):\n",
    "    for root, dirs, files in os.walk(my_file_path):\n",
    "        print('root:')\n",
    "        print(root)  # 当前目录路径\n",
    "        print('dirs:')\n",
    "        print(dirs)  # 当前路径下所有子目录\n",
    "        print('files:')\n",
    "        # print(files)  # 当前路径下所有非目录子文件\n",
    "        print('========================')\n",
    "        for file in files:\n",
    "            if file[0:3] == 'IMG':\n",
    "                break\n",
    "            else:\n",
    "                file_path = os.path.join(root, file)\n",
    "                print('file_path:'+file_path)\n",
    "                new_file_name = file[9:]\n",
    "                print('new_file_name:'+new_file_name)\n",
    "                new_file_path = os.path.join(root, new_file_name)\n",
    "                os.rename(file_path, new_file_path)\n",
    "    print('success')\n",
    "\n",
    "# rename_my_file(PATH)"
   ]
  },
  {
   "cell_type": "code",
   "execution_count": 12,
   "metadata": {},
   "outputs": [
    {
     "ename": "NameError",
     "evalue": "name 'move_my_file' is not defined",
     "output_type": "error",
     "traceback": [
      "\u001b[1;31m---------------------------------------------------------------------------\u001b[0m",
      "\u001b[1;31mNameError\u001b[0m                                 Traceback (most recent call last)",
      "\u001b[1;32m~\\AppData\\Local\\Temp/ipykernel_28536/1851968981.py\u001b[0m in \u001b[0;36m<module>\u001b[1;34m\u001b[0m\n\u001b[0;32m      1\u001b[0m \u001b[0mmy_file_path\u001b[0m \u001b[1;33m=\u001b[0m \u001b[1;34mr\"\\\\192.168.31.99\\photo\\hanminmin\\photo\\相机胶卷\"\u001b[0m\u001b[1;33m\u001b[0m\u001b[1;33m\u001b[0m\u001b[0m\n\u001b[1;32m----> 2\u001b[1;33m \u001b[0mmove_my_file\u001b[0m\u001b[1;33m(\u001b[0m\u001b[0mPATH\u001b[0m\u001b[1;33m)\u001b[0m\u001b[1;33m\u001b[0m\u001b[1;33m\u001b[0m\u001b[0m\n\u001b[0m\u001b[0;32m      3\u001b[0m \u001b[1;31m# rename_my_file(PATH)\u001b[0m\u001b[1;33m\u001b[0m\u001b[1;33m\u001b[0m\u001b[0m\n",
      "\u001b[1;31mNameError\u001b[0m: name 'move_my_file' is not defined"
     ]
    }
   ],
   "source": [
    "my_file_path = r\"\\\\192.168.31.99\\photo\\hanminmin\\photo\\相机胶卷\"\n",
    "move_my_file(my_file_path)\n",
    "# rename_my_file(my_file_path)"
   ]
  }
 ],
 "metadata": {
  "interpreter": {
   "hash": "f8b40d688a12481f01eadf7380c47edd8a49484a47dba3db091451640e880c68"
  },
  "kernelspec": {
   "display_name": "Python 3.9.7 ('base')",
   "language": "python",
   "name": "python3"
  },
  "language_info": {
   "codemirror_mode": {
    "name": "ipython",
    "version": 3
   },
   "file_extension": ".py",
   "mimetype": "text/x-python",
   "name": "python",
   "nbconvert_exporter": "python",
   "pygments_lexer": "ipython3",
   "version": "3.9.7"
  },
  "orig_nbformat": 4
 },
 "nbformat": 4,
 "nbformat_minor": 2
}
