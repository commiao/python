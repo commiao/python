{
 "cells": [
  {
   "cell_type": "code",
   "execution_count": null,
   "metadata": {},
   "outputs": [],
   "source": [
    "\"\"\"\n",
    "第二步\n",
    "目标：\n",
    "    1、通过merger数据矩阵 将文件名相同的ios文件添加后缀\"_ios\", win文件后缀添加\"_win_temp\"，并移动到日期文件夹根目录\n",
    "        \\\\192.168.31.99\\photo\\宝宝\\hanminmin\\YYYYMMDD\n",
    "    2、人工比较ios文件与win文件, 相同的删除win文件, 不同修改win文件后缀为\"_win\"\n",
    "    3、删除全部后缀添加\"_win_temp\"的win文件\n",
    "\"\"\""
   ]
  },
  {
   "cell_type": "code",
   "execution_count": 1,
   "metadata": {},
   "outputs": [
    {
     "data": {
      "text/plain": [
       "<function Connection.close>"
      ]
     },
     "execution_count": 1,
     "metadata": {},
     "output_type": "execute_result"
    }
   ],
   "source": [
    "import pandas as pd\n",
    "import sys\n",
    "sys.path.append(\"../../\")\n",
    "from db.db_demo import connect_db\n",
    "\n",
    "db_file = r'E:/SQLite_DB/nas_photo.db'\n",
    "conn = connect_db(db_file)\n",
    "sql = \"select * from df_baby\"\n",
    "#完成数据库的查询读取到数据框dataframe中\n",
    "df_baby_db = pd.read_sql(sql,conn)\n",
    "\n",
    "conn = connect_db(db_file)\n",
    "sql = \"select * from df_win\"\n",
    "#完成数据库的查询读取到数据框dataframe中\n",
    "df_win_db = pd.read_sql(sql,conn)\n",
    "conn.close\n"
   ]
  },
  {
   "cell_type": "code",
   "execution_count": null,
   "metadata": {},
   "outputs": [],
   "source": [
    "df = pd.merge(df_baby_db, df_win_db, on=['dir_name','file_name'], suffixes=('_ios','_win'), indicator=True)\n",
    "# group = df.groupby('dir_name')\n",
    "# group_list = list(group)\n",
    "\n",
    "for name,group in df.groupby('dir_name'):\n",
    "    print(name)\n",
    "    if name == '202003' or name == '202004': \n",
    "        for index, row in group.iterrows():\n",
    "            print(row['file_path_win','file_path_ios'])\n"
   ]
  },
  {
   "cell_type": "code",
   "execution_count": null,
   "metadata": {},
   "outputs": [],
   "source": [
    "\"\"\"\n",
    "第三步\n",
    "目标：\n",
    "    1、人工删除保留相机胶卷目录下的文件\n",
    "    2、移动相机胶卷文件至宝宝\\hanminmin\\YYYYMMDD\\win\n",
    "\"\"\""
   ]
  }
 ],
 "metadata": {
  "interpreter": {
   "hash": "f8b40d688a12481f01eadf7380c47edd8a49484a47dba3db091451640e880c68"
  },
  "kernelspec": {
   "display_name": "Python 3.9.7 ('base')",
   "language": "python",
   "name": "python3"
  },
  "language_info": {
   "codemirror_mode": {
    "name": "ipython",
    "version": 3
   },
   "file_extension": ".py",
   "mimetype": "text/x-python",
   "name": "python",
   "nbconvert_exporter": "python",
   "pygments_lexer": "ipython3",
   "version": "3.9.7"
  },
  "orig_nbformat": 4
 },
 "nbformat": 4,
 "nbformat_minor": 2
}
