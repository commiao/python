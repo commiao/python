{
 "cells": [
  {
   "cell_type": "markdown",
   "metadata": {},
   "source": [
    "## 第二步\n",
    "1. 移动宝宝目录下的ios文件至新地址xx\n",
    "    > \\\\192.168.31.99\\photo\\宝宝\\hanminmin\\YYYYMMDD\\ios\n",
    "2. 遍历xx目录下的文件 区分日期目录 标记为ios\n",
    "3. 遍历相机胶卷目录下的全部文件 区分日期目录 标记为win\n",
    "    > \\\\192.168.31.99\\photo\\hanminmin\\photo\\相机胶卷\\YYYYMMDD\n",
    "4. merger相同目录下的文件，字段：file_name file_path source_flag dir_name\n",
    "5. 修改并移动相同目录下(dir_name)，相同文件名(file_name)的文件到xx目录下（日期根目录-》ios、win）\n",
    "6. 人工判断ios标记目录下的重复文件，进行去重操作，删除win标记文件（为压缩文件）\n",
    "7. 人工判断剩余win标记文件夹下的文件，删除无用文件\n",
    "8. 移动win标记文件至xx标记目录下\n",
    "    > \\\\192.168.31.99\\photo\\宝宝\\hanminmin\\YYYYMMDD\\win"
   ]
  },
  {
   "cell_type": "code",
   "execution_count": 1,
   "metadata": {},
   "outputs": [],
   "source": [
    "\"\"\"\n",
    "第一步\n",
    "目标：\n",
    "    1、获取ios文件 数据矩阵\n",
    "    2、获取win文件 数据矩阵\n",
    "    3、通过 日期文件夹名称、文件名称 merger ios、win数据矩阵\n",
    "\"\"\"\n",
    "import os, pandas as pd\n",
    "\n",
    "def df_for_datedir(dir_path, date_dir_name):\n",
    "    print(\"开始执行文件夹：%s\" % dir_path)\n",
    "    file_name_list = []\n",
    "    file_path_list = []\n",
    "    spli_file_list = []\n",
    "    date_dir_name_list = []\n",
    "    file_list = os.listdir(dir_path)\n",
    "    file_lag = os.path.basename(dir_path)\n",
    "    for file in file_list:\n",
    "        file_path = os.path.join(dir_path, file)\n",
    "        if os.path.isfile(file_path):\n",
    "            spli_file = os.path.splitext(file)\n",
    "            spli_file_list.append(','.join(spli_file))\n",
    "            file_name_list.append(file)\n",
    "            date_dir_name_list.append(date_dir_name)\n",
    "            file_path_list.append(file_path)\n",
    "        else:\n",
    "            print(\"警告：=================日期文件夹下出现了二级目录：%s\" % file_path)\n",
    "\n",
    "    df = pd.DataFrame({\"file_path\":file_path_list, \"spli_file\":spli_file_list, \"file_name\": file_name_list, \"dir_name\": date_dir_name_list})\n",
    "    print(\"结束执行文件夹：%s\" % dir_path)\n",
    "    return df\n",
    "\n",
    "# df = df_for_datedir(r\"\\\\192.168.31.99\\photo\\宝宝\\hanminmin\\202003\\ios\", \"202003\")\n"
   ]
  },
  {
   "cell_type": "code",
   "execution_count": 2,
   "metadata": {},
   "outputs": [],
   "source": [
    "import threading, queue\n",
    "\n",
    "global df\n",
    "df = pd.DataFrame()\n",
    "def add_df(ios_dir_path, date_dir_name):\n",
    "    df_datedir = df_for_datedir(ios_dir_path, date_dir_name)\n",
    "    print(\"df_datedir=======================\"+str(len(df_datedir)))\n",
    "    global df\n",
    "    print(\"df=======================\"+str(len(df)))\n",
    "    if df.empty:\n",
    "        df = df_datedir\n",
    "    else:\n",
    "        df = df.append(df_datedir, ignore_index = True)\n",
    "    print(\"df=======================\"+str(len(df)))\n",
    "\n",
    "# 从队列中取出值，并调用实际操作\n",
    "def customer(thread_name, my_queue):\n",
    "    print(\"=========启动一个thread-%d\" % thread_name)\n",
    "    while not my_queue.empty():\n",
    "        list = my_queue.get()\n",
    "        print(\"thread-%d开始执行add_df()方法,入参dir_path:%s,date_dir_name:%s=====\" % (thread_name, list[0], list[1],))\n",
    "        add_df(list[0], list[1])\n",
    "    print(\"=========结束线程thread-%d\" % thread_name)\n",
    "\n",
    "def thread_queue(work_path, thread_count, file_flag):\n",
    "    print(\"=========================开始\")\n",
    "    # 创建一个队列对象，把数组值放进去\n",
    "    dir_list = os.listdir(work_path)\n",
    "    my_queue = queue.Queue(maxsize=len(dir_list))\n",
    "    for dir in dir_list:\n",
    "        # 文件在YYYYMMDD目录下的ios目录下\n",
    "        ios_dir_path = os.path.join(work_path, dir, file_flag)\n",
    "        list = [ios_dir_path, dir]\n",
    "        my_queue.put(list)\n",
    "\n",
    "    # 起10个线程，线程target去执行从队列中取值并进行操作的动作\n",
    "    threads = []\n",
    "    print(\"=========================添加线程池\")\n",
    "    for t in range(thread_count):\n",
    "        thread = threading.Thread(target=customer, args=(t, my_queue,))\n",
    "        threads.append(thread)\n",
    "        thread.start()\n",
    "\n",
    "    print(\"=========================启动线程池\")\n",
    "    for t in threads:\n",
    "        t.join()\n",
    "    print(\"success\")\n",
    "    return df\n"
   ]
  },
  {
   "cell_type": "code",
   "execution_count": null,
   "metadata": {},
   "outputs": [],
   "source": [
    "# 执行前先初始化df，再执行ios的数据\n",
    "df = pd.DataFrame()\n",
    "ios_dir_path = r\"\\\\192.168.31.99\\photo\\宝宝\\hanminmin\"\n",
    "df_baby = thread_queue(ios_dir_path, 10, 'ios')"
   ]
  },
  {
   "cell_type": "code",
   "execution_count": null,
   "metadata": {},
   "outputs": [],
   "source": [
    "# df已存储baby的历史数据，先初始化df再执行win的数据\n",
    "df = pd.DataFrame()\n",
    "win_dir_path = r\"\\\\192.168.31.99\\photo\\hanminmin\\photo\\相机胶卷\"\n",
    "df_win = thread_queue(win_dir_path, 10, 'win')"
   ]
  },
  {
   "cell_type": "markdown",
   "metadata": {},
   "source": [
    "将数据集合利用pandas存入sqlite中"
   ]
  },
  {
   "cell_type": "code",
   "execution_count": 4,
   "metadata": {},
   "outputs": [
    {
     "data": {
      "text/plain": [
       "<function Connection.close>"
      ]
     },
     "execution_count": 4,
     "metadata": {},
     "output_type": "execute_result"
    }
   ],
   "source": [
    "# 同一目录下\n",
    "# from db_demo import connect_db,close_db\n",
    "\n",
    "# 不同目录下\n",
    "import sys\n",
    "sys.path.append(\"../../\")\n",
    "from db.db_demo import connect_db\n",
    "\n",
    "\n",
    "db_file = r'E:/SQLite_DB/nas_photo.db'\n",
    "conn = connect_db(db_file)\n",
    "df_baby.to_sql(name='df_baby',con=conn,if_exists='replace',index=False)\n",
    "sql = \"select * from df_baby\"\n",
    "#完成数据库的查询读取到数据框dataframe中\n",
    "df_baby_db = pd.read_sql(sql,conn)\n",
    "conn.close"
   ]
  },
  {
   "cell_type": "code",
   "execution_count": 6,
   "metadata": {},
   "outputs": [
    {
     "data": {
      "text/plain": [
       "<function Connection.close>"
      ]
     },
     "execution_count": 6,
     "metadata": {},
     "output_type": "execute_result"
    }
   ],
   "source": [
    "db_file = r'E:/SQLite_DB/nas_photo.db'\n",
    "conn = connect_db(db_file)\n",
    "df_win.to_sql(name='df_win',con=conn,if_exists='replace',index=False)\n",
    "sql = \"select * from df_win\"\n",
    "#完成数据库的查询读取到数据框dataframe中\n",
    "df_win_db = pd.read_sql(sql,conn)\n",
    "conn.close"
   ]
  },
  {
   "cell_type": "markdown",
   "metadata": {},
   "source": [
    "list与字符串互转"
   ]
  },
  {
   "cell_type": "code",
   "execution_count": 4,
   "metadata": {},
   "outputs": [
    {
     "name": "stdout",
     "output_type": "stream",
     "text": [
      "\\\\192.168.31.99\\photo\\宝宝\\hanminmin\\202003\\ios\\IMG_0004,.JPG\n",
      "\\\\192.168.31.99\\photo\\宝宝\\hanminmin\\202003\\ios\\IMG_0004\n",
      ".JPG\n"
     ]
    }
   ],
   "source": [
    "import os\n",
    "path = r'\\\\192.168.31.99\\photo\\宝宝\\hanminmin\\202003\\ios\\IMG_0004.JPG'\n",
    "file_name = os.path.basename(path)\n",
    "spilt = os.path.splitext(file_name)\n",
    "str_spilt = ','.join(spilt)\n",
    "print(str_spilt)\n",
    "list = str_spilt.split(',')\n",
    "for name in list:\n",
    "    print(name)"
   ]
  }
 ],
 "metadata": {
  "interpreter": {
   "hash": "f8b40d688a12481f01eadf7380c47edd8a49484a47dba3db091451640e880c68"
  },
  "kernelspec": {
   "display_name": "Python 3.9.7 ('base')",
   "language": "python",
   "name": "python3"
  },
  "language_info": {
   "codemirror_mode": {
    "name": "ipython",
    "version": 3
   },
   "file_extension": ".py",
   "mimetype": "text/x-python",
   "name": "python",
   "nbconvert_exporter": "python",
   "pygments_lexer": "ipython3",
   "version": "3.9.7"
  },
  "orig_nbformat": 4
 },
 "nbformat": 4,
 "nbformat_minor": 2
}
