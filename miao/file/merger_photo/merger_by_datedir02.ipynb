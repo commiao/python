{
 "cells": [
  {
   "cell_type": "markdown",
   "metadata": {},
   "source": [
    "## 第三步\n",
    "1. 移动宝宝目录下的ios文件至新地址xx\n",
    "    > \\\\192.168.31.99\\photo\\宝宝\\hanminmin\\YYYYMMDD\\ios\n",
    "2. 遍历xx目录下的文件 区分日期目录 标记为ios\n",
    "3. 遍历相机胶卷目录下的全部文件 区分日期目录 标记为win\n",
    "    > \\\\192.168.31.99\\photo\\hanminmin\\photo\\相机胶卷\\YYYYMMDD\n",
    "4. merger相同目录下的文件，字段：file_name file_path source_flag dir_name\n",
    "5. 修改并移动相同目录下(dir_name)，相同文件名(file_name)的文件到xx目录下（日期根目录-》ios、win）\n",
    "6. 人工判断ios标记目录下的重复文件，进行去重操作，删除win标记文件（为压缩文件）\n",
    "7. 人工判断剩余win标记文件夹下的文件，删除无用文件\n",
    "8. 移动win标记文件至xx标记目录下\n",
    "    > \\\\192.168.31.99\\photo\\宝宝\\hanminmin\\YYYYMMDD\\win"
   ]
  },
  {
   "cell_type": "code",
   "execution_count": null,
   "metadata": {},
   "outputs": [],
   "source": [
    "\"\"\"\n",
    "第一步\n",
    "目标：\n",
    "    1、获取ios文件 数据矩阵\n",
    "    2、获取win文件 数据矩阵\n",
    "    3、通过 日期文件夹名称、文件名称 merger ios、win数据矩阵\n",
    "\n",
    "第二步\n",
    "目标：\n",
    "    1、通过merger数据矩阵 将文件名相同的ios文件添加后缀\"_ios\", win文件后缀添加\"_win_temp\"，并移动到日期文件夹根目录\n",
    "        \\\\192.168.31.99\\photo\\宝宝\\hanminmin\\YYYYMMDD\n",
    "    2、人工比较ios文件与win文件, 相同的删除win文件, 不同修改win文件后缀为\"_win\"\n",
    "    3、删除全部后缀添加\"_win_temp\"的win文件\n",
    "\n",
    "第三步\n",
    "目标：\n",
    "    1、人工删除保留相机胶卷目录下的文件\n",
    "    2、移动相机胶卷文件至宝宝\\hanminmin\\YYYYMMDD\\win\n",
    "\"\"\"\n",
    "\n"
   ]
  }
 ],
 "metadata": {
  "language_info": {
   "name": "python"
  },
  "orig_nbformat": 4
 },
 "nbformat": 4,
 "nbformat_minor": 2
}
